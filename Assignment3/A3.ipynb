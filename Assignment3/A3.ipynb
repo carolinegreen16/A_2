{
 "cells": [
  {
   "cell_type": "markdown",
   "metadata": {},
   "source": [
    "# Assignment 3"
   ]
  },
  {
   "cell_type": "markdown",
   "metadata": {},
   "source": [
    "### (a) Which of the predictors are quantitative, and which are qualitative?\n",
    "Qualitative:\n",
    "- name, origin\n",
    "\n",
    "Quantitative:\n",
    "- mpg, cylinders, displacement, horsepower, weight, acceleration, year"
   ]
  },
  {
   "cell_type": "code",
   "execution_count": 28,
   "metadata": {},
   "outputs": [
    {
     "name": "stdout",
     "output_type": "stream",
     "text": [
      "mpg: 46.6 9.0\n",
      "cylinders: 8 3\n",
      "displacement: 455.0 68.0\n",
      "horsepower: ? 100\n",
      "weight: 5140 1613\n",
      "acceleration: 24.8 8.0\n",
      "year: 82 70\n"
     ]
    }
   ],
   "source": [
    "## (b) \n",
    "import pandas as pd\n",
    "import numpy as np\n",
    "import matplotlib.pyplot as plt\n",
    "\n",
    "df = pd.read_csv('Auto.csv')\n",
    "\n",
    "print('mpg:', df['mpg'].max(), df['mpg'].min())\n",
    "print('cylinders:', df['cylinders'].max(), df['cylinders'].min())\n",
    "print('displacement:', df['displacement'].max(), df['displacement'].min())\n",
    "print('horsepower:', df['horsepower'].max(), df['horsepower'].min())\n",
    "print('weight:', df['weight'].max(), df['weight'].min())\n",
    "print('acceleration:', df['acceleration'].max(), df['acceleration'].min())\n",
    "print('year:', df['year'].max(), df['year'].min())"
   ]
  },
  {
   "cell_type": "code",
   "execution_count": 49,
   "metadata": {},
   "outputs": [
    {
     "name": "stdout",
     "output_type": "stream",
     "text": [
      "MEAN:\n",
      "mpg: 23.51586901763224\n",
      "cylinders: 5.458438287153652\n",
      "displacement: 193.53274559193954\n",
      "weight: 2970.2619647355164\n",
      "acceleration: 15.55566750629723\n",
      "year: 75.99496221662469\n",
      "\n",
      "STANDARD DEVIATION:\n",
      "mpg: 7.825803928946563\n",
      "cylinders: 1.7015769807918517\n",
      "displacement: 104.37958329992945\n",
      "weight: 847.9041194897246\n",
      "acceleration: 2.7499952929761515\n",
      "year: 3.690004901461673\n"
     ]
    }
   ],
   "source": [
    "## (c) \n",
    "import pandas as pd\n",
    "import numpy as np\n",
    "import matplotlib.pyplot as plt\n",
    "\n",
    "df = pd.read_csv('Auto.csv')\n",
    "\n",
    "print('MEAN:')\n",
    "print('mpg:', df['mpg'].mean())\n",
    "print('cylinders:', df['cylinders'].mean())\n",
    "print('displacement:', df['displacement'].mean())\n",
    "##print('horsepower:', df['horsepower'].mean())\n",
    "print('weight:', df['weight'].mean())\n",
    "print('acceleration:', df['acceleration'].mean())\n",
    "print('year:', df['year'].mean())\n",
    "print()\n",
    "print('STANDARD DEVIATION:')\n",
    "print('mpg:', df['mpg'].std())\n",
    "print('cylinders:', df['cylinders'].std())\n",
    "print('displacement:', df['displacement'].std())\n",
    "##print('horsepower:', df['horsepower'].std())\n",
    "print('weight:', df['weight'].std())\n",
    "print('acceleration:', df['acceleration'].std())\n",
    "print('year:', df['year'].std())"
   ]
  },
  {
   "cell_type": "markdown",
   "metadata": {},
   "source": []
  },
  {
   "cell_type": "code",
   "execution_count": null,
   "metadata": {},
   "outputs": [],
   "source": [
    "## (d)\n",
    "\n"
   ]
  }
 ],
 "metadata": {
  "kernelspec": {
   "display_name": "base",
   "language": "python",
   "name": "python3"
  },
  "language_info": {
   "codemirror_mode": {
    "name": "ipython",
    "version": 3
   },
   "file_extension": ".py",
   "mimetype": "text/x-python",
   "name": "python",
   "nbconvert_exporter": "python",
   "pygments_lexer": "ipython3",
   "version": "3.11.5"
  },
  "orig_nbformat": 4
 },
 "nbformat": 4,
 "nbformat_minor": 2
}
