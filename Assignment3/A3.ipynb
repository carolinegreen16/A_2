{
 "cells": [
  {
   "cell_type": "markdown",
   "metadata": {},
   "source": [
    "# Assignment 3"
   ]
  },
  {
   "cell_type": "markdown",
   "metadata": {},
   "source": [
    "### (a) Which of the predictors are quantitative, and which are qualitative?\n",
    "Qualitative:\n",
    "- name, origin\n",
    "\n",
    "Quantitative:\n",
    "- mpg, cylinders, displacement, horsepower, weight, acceleration, year"
   ]
  },
  {
   "cell_type": "code",
   "execution_count": 28,
   "metadata": {},
   "outputs": [
    {
     "name": "stdout",
     "output_type": "stream",
     "text": [
      "mpg: 46.6 9.0\n",
      "cylinders: 8 3\n",
      "displacement: 455.0 68.0\n",
      "horsepower: ? 100\n",
      "weight: 5140 1613\n",
      "acceleration: 24.8 8.0\n",
      "year: 82 70\n"
     ]
    }
   ],
   "source": [
    "## (b) \n",
    "import pandas as pd\n",
    "import numpy as np\n",
    "import matplotlib.pyplot as plt\n",
    "\n",
    "df = pd.read_csv('Auto.csv')\n",
    "\n",
    "print('mpg:', df['mpg'].max(), df['mpg'].min())\n",
    "print('cylinders:', df['cylinders'].max(), df['cylinders'].min())\n",
    "print('displacement:', df['displacement'].max(), df['displacement'].min())\n",
    "print('horsepower:', df['horsepower'].max(), df['horsepower'].min())\n",
    "print('weight:', df['weight'].max(), df['weight'].min())\n",
    "print('acceleration:', df['acceleration'].max(), df['acceleration'].min())\n",
    "print('year:', df['year'].max(), df['year'].min())"
   ]
  },
  {
   "cell_type": "code",
   "execution_count": 49,
   "metadata": {},
   "outputs": [
    {
     "name": "stdout",
     "output_type": "stream",
     "text": [
      "MEAN:\n",
      "mpg: 23.51586901763224\n",
      "cylinders: 5.458438287153652\n",
      "displacement: 193.53274559193954\n",
      "weight: 2970.2619647355164\n",
      "acceleration: 15.55566750629723\n",
      "year: 75.99496221662469\n",
      "\n",
      "STANDARD DEVIATION:\n",
      "mpg: 7.825803928946563\n",
      "cylinders: 1.7015769807918517\n",
      "displacement: 104.37958329992945\n",
      "weight: 847.9041194897246\n",
      "acceleration: 2.7499952929761515\n",
      "year: 3.690004901461673\n"
     ]
    }
   ],
   "source": [
    "## (c) \n",
    "import pandas as pd\n",
    "import numpy as np\n",
    "import matplotlib.pyplot as plt\n",
    "\n",
    "df = pd.read_csv('Auto.csv')\n",
    "\n",
    "print('MEAN:')\n",
    "print('mpg:', df['mpg'].mean())\n",
    "print('cylinders:', df['cylinders'].mean())\n",
    "print('displacement:', df['displacement'].mean())\n",
    "##print('horsepower:', df['horsepower'].mean())\n",
    "print('weight:', df['weight'].mean())\n",
    "print('acceleration:', df['acceleration'].mean())\n",
    "print('year:', df['year'].mean())\n",
    "print()\n",
    "print('STANDARD DEVIATION:')\n",
    "print('mpg:', df['mpg'].std())\n",
    "print('cylinders:', df['cylinders'].std())\n",
    "print('displacement:', df['displacement'].std())\n",
    "##print('horsepower:', df['horsepower'].std())\n",
    "print('weight:', df['weight'].std())\n",
    "print('acceleration:', df['acceleration'].std())\n",
    "print('year:', df['year'].std())"
   ]
  },
  {
   "cell_type": "markdown",
   "metadata": {},
   "source": []
  },
  {
   "cell_type": "code",
   "execution_count": 63,
   "metadata": {},
   "outputs": [
    {
     "data": {
      "text/html": [
       "<div>\n",
       "<style scoped>\n",
       "    .dataframe tbody tr th:only-of-type {\n",
       "        vertical-align: middle;\n",
       "    }\n",
       "\n",
       "    .dataframe tbody tr th {\n",
       "        vertical-align: top;\n",
       "    }\n",
       "\n",
       "    .dataframe thead th {\n",
       "        text-align: right;\n",
       "    }\n",
       "</style>\n",
       "<table border=\"1\" class=\"dataframe\">\n",
       "  <thead>\n",
       "    <tr style=\"text-align: right;\">\n",
       "      <th></th>\n",
       "      <th>mpg</th>\n",
       "      <th>cylinders</th>\n",
       "      <th>displacement</th>\n",
       "      <th>weight</th>\n",
       "      <th>acceleration</th>\n",
       "      <th>year</th>\n",
       "      <th>origin</th>\n",
       "    </tr>\n",
       "  </thead>\n",
       "  <tbody>\n",
       "    <tr>\n",
       "      <th>count</th>\n",
       "      <td>321.000000</td>\n",
       "      <td>321.000000</td>\n",
       "      <td>321.000000</td>\n",
       "      <td>321.000000</td>\n",
       "      <td>321.000000</td>\n",
       "      <td>321.000000</td>\n",
       "      <td>321.000000</td>\n",
       "    </tr>\n",
       "    <tr>\n",
       "      <th>mean</th>\n",
       "      <td>24.438629</td>\n",
       "      <td>5.370717</td>\n",
       "      <td>187.049844</td>\n",
       "      <td>2933.962617</td>\n",
       "      <td>15.723053</td>\n",
       "      <td>77.152648</td>\n",
       "      <td>1.598131</td>\n",
       "    </tr>\n",
       "    <tr>\n",
       "      <th>std</th>\n",
       "      <td>7.908184</td>\n",
       "      <td>1.653486</td>\n",
       "      <td>99.635385</td>\n",
       "      <td>810.642938</td>\n",
       "      <td>2.680514</td>\n",
       "      <td>3.111230</td>\n",
       "      <td>0.816163</td>\n",
       "    </tr>\n",
       "    <tr>\n",
       "      <th>min</th>\n",
       "      <td>11.000000</td>\n",
       "      <td>3.000000</td>\n",
       "      <td>68.000000</td>\n",
       "      <td>1649.000000</td>\n",
       "      <td>8.500000</td>\n",
       "      <td>70.000000</td>\n",
       "      <td>1.000000</td>\n",
       "    </tr>\n",
       "    <tr>\n",
       "      <th>25%</th>\n",
       "      <td>18.000000</td>\n",
       "      <td>4.000000</td>\n",
       "      <td>100.000000</td>\n",
       "      <td>2215.000000</td>\n",
       "      <td>14.000000</td>\n",
       "      <td>75.000000</td>\n",
       "      <td>1.000000</td>\n",
       "    </tr>\n",
       "    <tr>\n",
       "      <th>50%</th>\n",
       "      <td>23.900000</td>\n",
       "      <td>4.000000</td>\n",
       "      <td>145.000000</td>\n",
       "      <td>2795.000000</td>\n",
       "      <td>15.500000</td>\n",
       "      <td>77.000000</td>\n",
       "      <td>1.000000</td>\n",
       "    </tr>\n",
       "    <tr>\n",
       "      <th>75%</th>\n",
       "      <td>30.700000</td>\n",
       "      <td>6.000000</td>\n",
       "      <td>250.000000</td>\n",
       "      <td>3504.000000</td>\n",
       "      <td>17.300000</td>\n",
       "      <td>80.000000</td>\n",
       "      <td>2.000000</td>\n",
       "    </tr>\n",
       "    <tr>\n",
       "      <th>max</th>\n",
       "      <td>46.600000</td>\n",
       "      <td>8.000000</td>\n",
       "      <td>455.000000</td>\n",
       "      <td>4997.000000</td>\n",
       "      <td>24.800000</td>\n",
       "      <td>82.000000</td>\n",
       "      <td>3.000000</td>\n",
       "    </tr>\n",
       "  </tbody>\n",
       "</table>\n",
       "</div>"
      ],
      "text/plain": [
       "              mpg   cylinders  displacement       weight  acceleration  \\\n",
       "count  321.000000  321.000000    321.000000   321.000000    321.000000   \n",
       "mean    24.438629    5.370717    187.049844  2933.962617     15.723053   \n",
       "std      7.908184    1.653486     99.635385   810.642938      2.680514   \n",
       "min     11.000000    3.000000     68.000000  1649.000000      8.500000   \n",
       "25%     18.000000    4.000000    100.000000  2215.000000     14.000000   \n",
       "50%     23.900000    4.000000    145.000000  2795.000000     15.500000   \n",
       "75%     30.700000    6.000000    250.000000  3504.000000     17.300000   \n",
       "max     46.600000    8.000000    455.000000  4997.000000     24.800000   \n",
       "\n",
       "             year      origin  \n",
       "count  321.000000  321.000000  \n",
       "mean    77.152648    1.598131  \n",
       "std      3.111230    0.816163  \n",
       "min     70.000000    1.000000  \n",
       "25%     75.000000    1.000000  \n",
       "50%     77.000000    1.000000  \n",
       "75%     80.000000    2.000000  \n",
       "max     82.000000    3.000000  "
      ]
     },
     "execution_count": 63,
     "metadata": {},
     "output_type": "execute_result"
    }
   ],
   "source": [
    "## (d)\n",
    "auto_dropped = df.drop(index = range(9,85))\n",
    "auto_dropped.describe()"
   ]
  },
  {
   "cell_type": "code",
   "execution_count": 76,
   "metadata": {},
   "outputs": [
    {
     "data": {
      "text/plain": [
       "mpg    Axes(0.125,0.11;0.775x0.77)\n",
       "dtype: object"
      ]
     },
     "execution_count": 76,
     "metadata": {},
     "output_type": "execute_result"
    },
    {
     "data": {
      "image/png": "[encoded data removed]",
      "text/plain": [
       "<Figure size 640x480 with 1 Axes>"
      ]
     },
     "metadata": {},
     "output_type": "display_data"
    }
   ],
   "source": [
    "## (e)\n",
    "df.plot(column='mpg', by='year', kind='box')\n"
   ]
  },
  {
   "cell_type": "code",
   "execution_count": null,
   "metadata": {},
   "outputs": [],
   "source": []
  }
 ],
 "metadata": {
  "kernelspec": {
   "display_name": "base",
   "language": "python",
   "name": "python3"
  },
  "language_info": {
   "codemirror_mode": {
    "name": "ipython",
    "version": 3
   },
   "file_extension": ".py",
   "mimetype": "text/x-python",
   "name": "python",
   "nbconvert_exporter": "python",
   "pygments_lexer": "ipython3",
   "version": "3.11.5"
  },
  "orig_nbformat": 4
 },
 "nbformat": 4,
 "nbformat_minor": 2
}
