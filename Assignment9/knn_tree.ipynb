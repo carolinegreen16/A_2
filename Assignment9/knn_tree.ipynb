{
 "cells": [
  {
   "cell_type": "markdown",
   "metadata": {},
   "source": [
    "# KNN For Majors"
   ]
  },
  {
   "cell_type": "code",
   "execution_count": null,
   "metadata": {},
   "outputs": [],
   "source": [
    "import numpy as np \n",
    "import pandas as pd \n",
    "from sklearn import preprocessing \n",
    "from sklearn.model_selection import train_test_split\n",
    "from sklearn.neighbors import KNeighborsClassifier\n",
    "from sklearn import metrics \n",
    "\n",
    "# Load my data\n",
    "df = pd.read_csv('DegreeConferrals.csv')\n",
    "\n",
    "# non-number values\n",
    "df_numeric = df.select_dtypes(include=[np.number])\n",
    "df_non_numeric = df.select_dtypes(exclude=[np.number])\n",
    "\n",
    "# Select features / target variable \n",
    "X = df_numeric.drop(columns=['MAJOR_1_DESC'])\n",
    "y = df['MAJOR_1_DESC']\n",
    "\n",
    "# Make non-numeric values numeric\n",
    "c = preprocessing.LabelEncoder()\n",
    "y = c.fit_transform(y)\n",
    "\n",
    "# Split data into train / test sets\n",
    "X_train, X_test, y_train, y_test = train_test_split(X, y, test_size=0.2, random_state=4)\n",
    "\n",
    "# Train model using selected k\n",
    "k = 4\n",
    "neigh = KNeighborsClassifier(n_neighbors=k)\n",
    "neigh.fit(X_train, y_train)\n",
    "\n",
    "# Predict\n",
    "yhat_train = neigh.predict(X_train)\n",
    "yhat_test = neigh.predict(X_test)\n",
    "\n",
    "# Evaluate\n",
    "print('Train set Accuracy: ', metrics.accuracy_score(y_train, yhat_train))\n",
    "print('Test set Accuracy: ', metrics.accuracy_score(y_test, yhat_test))"
   ]
  },
  {
   "cell_type": "markdown",
   "metadata": {},
   "source": [
    "# Decision Tree"
   ]
  },
  {
   "cell_type": "code",
   "execution_count": null,
   "metadata": {},
   "outputs": [],
   "source": [
    "import pandas as pd\n",
    "from sklearn.model_selection import train_test_split\n",
    "from sklearn.tree import DecisionTreeClassifier\n",
    "from sklearn import metrics\n",
    "\n",
    "# Load the dataset\n",
    "df = pd.read_csv('DegreeConferrals.csv')\n",
    "\n",
    "# Select features / target variable\n",
    "X = df.drop(columns=['MAJOR_1_DESC'])  # Features\n",
    "y = df['MAJOR_1_DESC']  # Target variable\n",
    "\n",
    "# Split  training / testing sets\n",
    "X_train, X_test, y_train, y_test = train_test_split(X, y, test_size=0.2, random_state=4)\n",
    "\n",
    "# Classifier \n",
    "clf = DecisionTreeClassifier()\n",
    "\n",
    "# Train\n",
    "clf.fit(X_train, y_train)\n",
    "\n",
    "# Predict\n",
    "y_pred_train = clf.predict(X_train)\n",
    "y_pred_test = clf.predict(X_test)\n",
    "\n",
    "# Evalute \n",
    "train_accuracy = metrics.accuracy_score(y_train, y_pred_train)\n",
    "test_accuracy = metrics.accuracy_score(y_test, y_pred_test)\n",
    "\n",
    "print('Train set Accuracy:', train_accuracy)\n",
    "print('Test set Accuracy:', test_accuracy)\n"
   ]
  }
 ],
 "metadata": {
  "kernelspec": {
   "display_name": "base",
   "language": "python",
   "name": "python3"
  },
  "language_info": {
   "codemirror_mode": {
    "name": "ipython",
    "version": 3
   },
   "file_extension": ".py",
   "mimetype": "text/x-python",
   "name": "python",
   "nbconvert_exporter": "python",
   "pygments_lexer": "ipython3",
   "version": "3.11.5"
  },
  "orig_nbformat": 4
 },
 "nbformat": 4,
 "nbformat_minor": 2
}
